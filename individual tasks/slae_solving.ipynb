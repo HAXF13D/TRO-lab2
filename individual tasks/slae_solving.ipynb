{
 "cells": [
  {
   "cell_type": "markdown",
   "id": "4ed573d0",
   "metadata": {},
   "source": [
    "# Разработать программу, способную решать систему линейных алгебраических уравнений, содержащую n уравнений и n неизвестных.\n",
    "\n",
    "\\begin{equation}\n",
    "\\left \\{ \\begin{aligned}\n",
    "& a_{11}x_1+a_{12}x_2+a_{13}x_3+\\ldots+a_{1n}x_n=b_1;\\\\\n",
    "& a_{21}x_1+a_{22}x_2+a_{23}x_3+\\ldots+a_{2n}x_n=b_2;\\\\\n",
    "& \\ldots\\ldots\\ldots\\ldots\\ldots\\ldots\\ldots\\ldots\\ldots\\ldots\\ldots\\ldots \\\\\n",
    "& a_{n1}x_1+a_{n2}x_2+a_{n3}x_3+\\ldots+a_{nn}x_n=b_n.\n",
    "\\end{aligned} \\right.\n",
    "\\end{equation}\n",
    "\n",
    "**Входные данные:**\n",
    "\n",
    "`0≤i,j<n`\n",
    "\n",
    "В первой строке вводится целое число n, количсетво уравнений и неизвестных.\n",
    "\n",
    "Далее во входном потоке идет n строк по n вещественных чисел a<sub>ij</sub>, коэффициенты уравнения, разделенные пробелом.\n",
    "\n",
    "В последней строке вводятся n вещественных чисел b<sub>i</sub>, свободные члены, разделенные пробелом.\n",
    "\n",
    "**Выходные данные:**\n",
    "\n",
    "В одной строке вывести корни данного уравнения, разделенные пробелом.\n",
    "\n",
    "**Пример входных данных:**\n",
    "\n",
    "3<br>\n",
    "2.0 -1.0 0.0<br>\n",
    "-1.0 1.0 4.0<br>\n",
    "1.0 2.0 3.0<br>\n",
    "0.0 13.0 14.0<br>\n",
    "\n",
    "**Пример выходных данных:**\n",
    "\n",
    "1.0 2.0 3.0\n"
   ]
  },
  {
   "cell_type": "code",
   "execution_count": 1,
   "id": "ac2ed702",
   "metadata": {},
   "outputs": [],
   "source": [
    "import numpy as np"
   ]
  },
  {
   "cell_type": "code",
   "execution_count": 2,
   "id": "de5a39a3",
   "metadata": {
    "scrolled": true
   },
   "outputs": [
    {
     "name": "stdout",
     "output_type": "stream",
     "text": [
      "3\n",
      "2.0 -1.0 0.0\n",
      "-1.0 1.0 4.0\n",
      "1.0 2.0 3.0\n",
      "0.0 13.0 14.0\n"
     ]
    }
   ],
   "source": [
    "# Считываем данные\n",
    "\n",
    "n = int(input())\n",
    "a = np.array([list(map(float, input().split())) for i in range(n)])\n",
    "b = np.array(list(map(float, input().split())))"
   ]
  },
  {
   "cell_type": "code",
   "execution_count": 3,
   "id": "ad765a2b",
   "metadata": {},
   "outputs": [
    {
     "name": "stdout",
     "output_type": "stream",
     "text": [
      "[1.0, 1.9999999999999996, 3.0]\n"
     ]
    }
   ],
   "source": [
    "det = np.linalg.det(a)\n",
    "ans = []\n",
    "for j in range(n):\n",
    "    a_sav = a.copy()\n",
    "    a_sav[::, j] = b[::]\n",
    "    det_x = np.linalg.det(a_sav)\n",
    "    x = det_x / det\n",
    "    ans.append(x)\n",
    "print(ans)"
   ]
  }
 ],
 "metadata": {
  "kernelspec": {
   "display_name": "Python 3",
   "language": "python",
   "name": "python3"
  },
  "language_info": {
   "codemirror_mode": {
    "name": "ipython",
    "version": 3
   },
   "file_extension": ".py",
   "mimetype": "text/x-python",
   "name": "python",
   "nbconvert_exporter": "python",
   "pygments_lexer": "ipython3",
   "version": "3.8.8"
  }
 },
 "nbformat": 4,
 "nbformat_minor": 5
}
